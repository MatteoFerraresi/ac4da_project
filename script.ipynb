{
 "cells": [
  {
   "cell_type": "markdown",
   "metadata": {},
   "source": [
    "### TASK 1 - Constructing the biomedical knowledge graph: "
   ]
  },
  {
   "cell_type": "code",
   "execution_count": 1,
   "metadata": {},
   "outputs": [],
   "source": [
    "import pandas as pd\n",
    "import networkx as nx\n",
    "\n",
    "# Loading the node data\n",
    "nodes_df = pd.read_csv('hetionet-v1.0-nodes.tsv', sep='\\t', header=0, names=['ID', 'Name', 'Kind'])\n",
    "\n",
    "# Loading the edge data\n",
    "edges_df = pd.read_csv('edges.sif', sep='\\t', header=0, names=['Source', 'Metaedge', 'Target'])\n",
    "\n",
    "#Creating the Graph\n",
    "G = nx.MultiDiGraph()\n",
    "\n",
    "#Adding nodes with ID as the node identifier\n",
    "for _, row in nodes_df.iterrows():\n",
    "    G.add_node(row['ID'], name=row['Name'], kind=row['Kind'])\n",
    "\n",
    "# Adding edges\n",
    "for _, row in edges_df.iterrows():\n",
    "    G.add_edge(row['Source'], row['Target'], type=row['Metaedge'])\n",
    "\n",
    "# G is our graph structure containing nodes with their attributes and the edges between them"
   ]
  },
  {
   "cell_type": "code",
   "execution_count": 2,
   "metadata": {},
   "outputs": [
    {
     "name": "stdout",
     "output_type": "stream",
     "text": [
      "Different types for nodes: 11\n",
      "Different types for edges: 24\n"
     ]
    }
   ],
   "source": [
    "# Counting different types for nodes\n",
    "node_kind = {node_attrs['kind'] for _, node_attrs in G.nodes(data=True)}\n",
    "\n",
    "# Counting different types for edges\n",
    "edge_types = {edge_attrs['type'] for _, _, edge_attrs in G.edges(data=True)}\n",
    "\n",
    "\n",
    "H = G.to_directed()\n",
    "\n",
    "print(\"Different types for nodes:\", len(node_kind))\n",
    "print(\"Different types for edges:\", len(edge_types))"
   ]
  },
  {
   "cell_type": "markdown",
   "metadata": {},
   "source": [
    "### TASK 2 - Analyzing the biomedical knowledge graph:"
   ]
  },
  {
   "cell_type": "code",
   "execution_count": 3,
   "metadata": {},
   "outputs": [
    {
     "name": "stdout",
     "output_type": "stream",
     "text": [
      "Nodes associated with each kind:\n",
      "Anatomy: 402\n",
      "Biological Process: 11381\n",
      "Cellular Component: 1391\n",
      "Compound: 1552\n",
      "Disease: 137\n",
      "Gene: 20945\n",
      "Molecular Function: 2884\n",
      "Pathway: 1822\n",
      "Pharmacologic Class: 345\n",
      "Side Effect: 5734\n",
      "Symptom: 438\n",
      "\n",
      "Edges associated with each type:\n",
      "AdG: 102240\n",
      "AeG: 526407\n",
      "AuG: 97848\n",
      "CrC: 6486\n",
      "CtD: 755\n",
      "CbG: 11571\n",
      "CuG: 18756\n",
      "CcSE: 138944\n",
      "CdG: 21102\n",
      "CpD: 390\n",
      "DdG: 7623\n",
      "DpS: 3357\n",
      "DlA: 3602\n",
      "DrD: 543\n",
      "DaG: 12623\n",
      "DuG: 7731\n",
      "GiG: 147164\n",
      "GpCC: 73566\n",
      "GpBP: 559504\n",
      "GcG: 61690\n",
      "GpMF: 97222\n",
      "GpPW: 84372\n",
      "Gr>G: 265672\n",
      "PCiC: 1029\n"
     ]
    }
   ],
   "source": [
    "# Counting nodes associated with each type\n",
    "node_counts = {}\n",
    "for node, node_attrs in G.nodes(data=True):\n",
    "    node_kind = node_attrs['kind']\n",
    "    if node_kind not in node_counts:\n",
    "        node_counts[node_kind] = 1\n",
    "    else:\n",
    "        node_counts[node_kind] += 1\n",
    "\n",
    "# Counting edges associated with each type\n",
    "edge_counts = {}\n",
    "for _, _, edge_attrs in G.edges(data=True):\n",
    "    edge_type = edge_attrs['type']\n",
    "    if edge_type not in edge_counts:\n",
    "        edge_counts[edge_type] = 1\n",
    "    else:\n",
    "        edge_counts[edge_type] += 1\n",
    "\n",
    "\n",
    "#Here we list the Total Number of Entities for Each Unique Kind\n",
    "print(\"Nodes associated with each kind:\")\n",
    "for node_kind, count in node_counts.items():\n",
    "    print(f\"{node_kind}: {count}\")\n",
    "\n",
    "print(\"\\nEdges associated with each type:\")\n",
    "for edge_type, count in edge_counts.items():\n",
    "    print(f\"{edge_type}: {count}\")"
   ]
  },
  {
   "cell_type": "code",
   "execution_count": 4,
   "metadata": {},
   "outputs": [
    {
     "name": "stdout",
     "output_type": "stream",
     "text": [
      "Average In-Degree for each node type:\n",
      "Anatomy: 8.960199004975124\n",
      "Biological Process: 49.16123363500571\n",
      "Cellular Component: 52.887131560028756\n",
      "Compound: 4.842139175257732\n",
      "Disease: 12.321167883211679\n",
      "Gene: 61.1328240630222\n",
      "Molecular Function: 33.71081830790569\n",
      "Pathway: 46.30735455543359\n",
      "Pharmacologic Class: 0.0\n",
      "Side Effect: 24.231600976630624\n",
      "Symptom: 7.664383561643835\n",
      "\n",
      "Average Out-Degree for each node type:\n",
      "Anatomy: 1807.2014925373135\n",
      "Biological Process: 0.0\n",
      "Cellular Component: 0.0\n",
      "Compound: 127.5798969072165\n",
      "Disease: 258.97080291970804\n",
      "Gene: 61.55120553831463\n",
      "Molecular Function: 0.0\n",
      "Pathway: 0.0\n",
      "Pharmacologic Class: 2.982608695652174\n",
      "Side Effect: 0.0\n",
      "Symptom: 0.0\n"
     ]
    }
   ],
   "source": [
    "# H is our directed graph\n",
    "from collections import defaultdict\n",
    "\n",
    "# Initializing dictionaries to sum degrees and count nodes for each type\n",
    "in_degrees = defaultdict(int)\n",
    "out_degrees = defaultdict(int)\n",
    "counts = defaultdict(int)\n",
    "\n",
    "for node, attrs in H.nodes(data=True):\n",
    "    node_kind = attrs['kind']\n",
    "    counts[node_kind] += 1\n",
    "    in_degrees[node_kind] += H.in_degree(node)\n",
    "    out_degrees[node_kind] += H.out_degree(node)\n",
    "\n",
    "# Calculating and printing average in/out-degrees\n",
    "avg_in_degrees = {node_kind: in_deg / counts[node_kind] for node_kind, in_deg in in_degrees.items()}\n",
    "avg_out_degrees = {node_kind: out_deg / counts[node_kind] for node_kind, out_deg in out_degrees.items()}\n",
    "\n",
    "print(\"Average In-Degree for each node type:\")\n",
    "for node_kind, avg_in in avg_in_degrees.items():\n",
    "    print(f\"{node_kind}: {avg_in}\")\n",
    "\n",
    "print(\"\\nAverage Out-Degree for each node type:\")\n",
    "for node_kind, avg_out in avg_out_degrees.items():\n",
    "    print(f\"{node_kind}: {avg_out}\")"
   ]
  },
  {
   "cell_type": "markdown",
   "metadata": {},
   "source": [
    "### ANALYSIS:"
   ]
  },
  {
   "cell_type": "markdown",
   "metadata": {},
   "source": [
    "For each “Disease” compute the number of connections (in-degree and out-degree) \n",
    "and show the most connected diseases. "
   ]
  },
  {
   "cell_type": "code",
   "execution_count": 5,
   "metadata": {},
   "outputs": [
    {
     "name": "stdout",
     "output_type": "stream",
     "text": [
      "Top 5 diseases by in-degree (most incoming connections):\n",
      "hypertension: In-Degree = 73\n",
      "hematologic cancer: In-Degree = 53\n",
      "breast cancer: In-Degree = 44\n",
      "asthma: In-Degree = 41\n",
      "coronary artery disease: In-Degree = 40\n",
      "\n",
      "Top 5 diseases by out-degree (most outgoing connections):\n",
      "breast cancer: Out-Degree = 1115\n",
      "hematologic cancer: Out-Degree = 1076\n",
      "IgA glomerulonephritis: Out-Degree = 966\n",
      "melanoma: Out-Degree = 931\n",
      "rheumatoid arthritis: Out-Degree = 868\n"
     ]
    }
   ],
   "source": [
    "# Initialize dictionaries to store in-degree and out-degree for diseases\n",
    "disease_connections = defaultdict(lambda: {'in': 0, 'out': 0})\n",
    "\n",
    "# Here for each disease we find in and out degree\n",
    "for node, attrs in H.nodes(data=True):\n",
    "    if attrs['kind'] == 'Disease':\n",
    "        disease_connections[node]['in'] = H.in_degree(node)\n",
    "        disease_connections[node]['out'] = H.out_degree(node)\n",
    "\n",
    "# and then we sort diseases by in-degree and out-degree\n",
    "most_connected_by_in_degree = sorted(disease_connections.items(), key=lambda x: x[1]['in'], reverse=True)\n",
    "most_connected_by_out_degree = sorted(disease_connections.items(), key=lambda x: x[1]['out'], reverse=True)\n",
    "\n",
    "# top 5 most connected diseases by in-degree\n",
    "print(\"Top 5 diseases by in-degree (most incoming connections):\")\n",
    "for disease, degrees in most_connected_by_in_degree[:5]:\n",
    "    disease_name = H.nodes[disease]['name']  # Get the disease name\n",
    "    print(f\"{disease_name}: In-Degree = {degrees['in']}\")\n",
    "\n",
    "# 5 most connected diseases by out-degree\n",
    "print(\"\\nTop 5 diseases by out-degree (most outgoing connections):\")\n",
    "for disease, degrees in most_connected_by_out_degree[:5]:\n",
    "    disease_name = H.nodes[disease]['name']  # Get the disease name\n",
    "    print(f\"{disease_name}: Out-Degree = {degrees['out']}\")\n"
   ]
  },
  {
   "cell_type": "markdown",
   "metadata": {},
   "source": [
    "### Compute the sub-graph of “Disease” and “Symptom”"
   ]
  },
  {
   "cell_type": "code",
   "execution_count": 6,
   "metadata": {},
   "outputs": [],
   "source": [
    "# H is our directed graph\n",
    "# and it has a 'type' attribute for each node specifying whether it's a Disease, Symptom, or something else\n",
    "\n",
    "# we identify Disease and Symptom nodes\n",
    "disease_and_symptom_nodes = [node for node, attrs in H.nodes(data=True) if attrs.get('kind') in ['Disease', 'Symptom']]\n",
    "\n",
    "# we create the sub-graph\n",
    "disease_symptom_subgraph = H.subgraph(disease_and_symptom_nodes).copy()\n",
    "\n",
    "# Now 'disease_symptom_subgraph' is a directed sub-graph of 'H' \n",
    "# that includes only Diseases and Symptoms and the edges between them\n"
   ]
  },
  {
   "cell_type": "markdown",
   "metadata": {},
   "source": [
    "### Compute the average number of connections between a disease and a symptom."
   ]
  },
  {
   "cell_type": "code",
   "execution_count": 7,
   "metadata": {},
   "outputs": [
    {
     "name": "stdout",
     "output_type": "stream",
     "text": [
      "Total connections: 3900\n",
      "Total disease and symptom nodes: 575\n",
      "Average number of connections between a disease and a symptom: 6.782608695652174\n"
     ]
    }
   ],
   "source": [
    "# 'disease_symptom_subgraph' is our MultiDiGraph containing only diseases and symptoms\n",
    "\n",
    "# we count the total number of connections (edges)\n",
    "# In a MultiDiGraph, this correctly accounts for multiple edges between the same nodes\n",
    "total_connections = len(disease_symptom_subgraph.edges())\n",
    "\n",
    "# we determine the number of diseases and symptoms\n",
    "diseases_count = sum(1 for _, data in disease_symptom_subgraph.nodes(data=True) if data.get('kind') == 'Disease')\n",
    "symptoms_count = sum(1 for _, data in disease_symptom_subgraph.nodes(data=True) if data.get('kind') == 'Symptom')\n",
    "\n",
    "# The total number of disease and symptom nodes\n",
    "total_disease_symptom_nodes = diseases_count + symptoms_count\n",
    "\n",
    "# we compute the average number of connections\n",
    "# The calculation of the average connections per node remains the same\n",
    "average_connections = total_connections / total_disease_symptom_nodes\n",
    "\n",
    "print(f\"Total connections: {total_connections}\")\n",
    "print(f\"Total disease and symptom nodes: {total_disease_symptom_nodes}\")\n",
    "print(f\"Average number of connections between a disease and a symptom: {average_connections}\")"
   ]
  },
  {
   "cell_type": "markdown",
   "metadata": {},
   "source": [
    "### Compute the similarity between “type 1 diabetes mellitus” and “type 2 diabetes mellitus”"
   ]
  },
  {
   "cell_type": "code",
   "execution_count": 8,
   "metadata": {},
   "outputs": [
    {
     "name": "stdout",
     "output_type": "stream",
     "text": [
      "Jaccard Similarity between 'type 1 diabetes mellitus' and 'type 2 diabetes mellitus' is 0.13267326732673268\n"
     ]
    }
   ],
   "source": [
    "# Now we identify the node IDs for the two diseases\n",
    "# Ensure we select only the first matching node for each disease name\n",
    "node_id_type1 = next((node for node, attrs in H.nodes(data=True) if attrs.get('name') == \"type 1 diabetes mellitus\"), None)\n",
    "node_id_type2 = next((node for node, attrs in H.nodes(data=True) if attrs.get('name') == \"type 2 diabetes mellitus\"), None)\n",
    "\n",
    "if not node_id_type1 or not node_id_type2:\n",
    "    print(\"One of the disease nodes could not be found.\")\n",
    "else:\n",
    "    # we get the neighbors for both diseases\n",
    "    # For directed graphs, consider successors for outgoing and predecessors for incoming edges\n",
    "    neighbors_type1 = set(H.successors(node_id_type1)) | set(H.predecessors(node_id_type1))\n",
    "    neighbors_type2 = set(H.successors(node_id_type2)) | set(H.predecessors(node_id_type2))\n",
    "\n",
    "    # we compute Jaccard Similarity\n",
    "    intersection = len(neighbors_type1 & neighbors_type2)\n",
    "    union = len(neighbors_type1 | neighbors_type2)\n",
    "    jaccard_similarity = intersection / union if union else 0\n",
    "\n",
    "    print(f\"Jaccard Similarity between 'type 1 diabetes mellitus' and 'type 2 diabetes mellitus' is {jaccard_similarity}\")\n"
   ]
  },
  {
   "cell_type": "markdown",
   "metadata": {},
   "source": [
    "The Jaccard similarity between \"type 1 diabetes mellitus\" and \"type 2 diabetes mellitus\" is approximately 13.27% of their combined neighbor sets (e.g., symptoms, treatments, related conditions) are shared. This suggests that the majority of their connections are unique to each disease."
   ]
  },
  {
   "cell_type": "markdown",
   "metadata": {},
   "source": [
    "### Define and compute also the similarity between two symptoms like “EyePain” and ”Blindness”"
   ]
  },
  {
   "cell_type": "code",
   "execution_count": 9,
   "metadata": {},
   "outputs": [
    {
     "name": "stdout",
     "output_type": "stream",
     "text": [
      "Jaccard Similarity between 'Eye Pain' and 'Blindness': 0.35\n"
     ]
    }
   ],
   "source": [
    "# we identify the node IDs for the two symptoms\n",
    "node_id_eye_pain = next((node for node, attrs in H.nodes(data=True) if attrs.get('name') == \"Eye Pain\" and attrs.get('kind') == \"Symptom\"), None)\n",
    "node_id_blindness = next((node for node, attrs in H.nodes(data=True) if attrs.get('name') == \"Blindness\" and attrs.get('kind') == \"Symptom\"), None)\n",
    "\n",
    "if not node_id_eye_pain or not node_id_blindness:\n",
    "    print(\"One of the symptom nodes could not be found.\")\n",
    "else:\n",
    "    # we get Neighbors for both symptoms\n",
    "    neighbors_eye_pain = set(H.successors(node_id_eye_pain)) | set(H.predecessors(node_id_eye_pain))\n",
    "    neighbors_blindness = set(H.successors(node_id_blindness)) | set(H.predecessors(node_id_blindness))\n",
    "\n",
    "    # we compute Jaccard Similarity\n",
    "    intersection = len(neighbors_eye_pain & neighbors_blindness)\n",
    "    union = len(neighbors_eye_pain | neighbors_blindness)\n",
    "    jaccard_similarity = intersection / union if union else 0\n",
    "\n",
    "    print(f\"Jaccard Similarity between 'Eye Pain' and 'Blindness': {jaccard_similarity}\")"
   ]
  },
  {
   "cell_type": "markdown",
   "metadata": {},
   "source": [
    "Similarity of 0 means they share no connections."
   ]
  },
  {
   "cell_type": "markdown",
   "metadata": {},
   "source": [
    "# Structural Similarity Measures (e.g., SimRank)\n",
    "\n",
    "We adopt the SimRank a more sophisticated approaches than the straightforward Jaccard similarity for comparing nodes in a graph, it's usefull especially in our case in which the graphs has multi-layered relationships.\n",
    "\n",
    "- similarity between \"EyePain\" and \"Blindness\" symptoms"
   ]
  },
  {
   "cell_type": "code",
   "execution_count": 10,
   "metadata": {},
   "outputs": [
    {
     "name": "stdout",
     "output_type": "stream",
     "text": [
      "Node ID for 'Eye Pain': Symptom::D058447\n",
      "Node ID for 'Blindness': Symptom::D001766\n"
     ]
    }
   ],
   "source": [
    "# Function to find node ID by name\n",
    "def find_node_id_by_name(G, name):\n",
    "    for node, attrs in G.nodes(data=True):\n",
    "        if 'name' in attrs and attrs['name'] == name and attrs['kind'] == \"Symptom\":\n",
    "            return node\n",
    "    return None\n",
    "\n",
    "# Finding node IDs for \"Eye Pain\" and \"Blindness\"\n",
    "node_id_eye_pain = find_node_id_by_name(H, \"Eye Pain\")\n",
    "node_id_blindness = find_node_id_by_name(H, \"Blindness\")\n",
    "\n",
    "print(f\"Node ID for 'Eye Pain': {node_id_eye_pain}\")\n",
    "print(f\"Node ID for 'Blindness': {node_id_blindness}\")"
   ]
  },
  {
   "cell_type": "code",
   "execution_count": 11,
   "metadata": {},
   "outputs": [],
   "source": [
    "def simrank(G, u, v, c=0.8, max_iter=10, eps=1e-4, sim_cache=None):\n",
    "    # Initialize the cache on the first call\n",
    "    if sim_cache is None:\n",
    "        sim_cache = {}\n",
    "    \n",
    "    # Check for direct cache hit\n",
    "    if (u, v) in sim_cache:\n",
    "        return sim_cache[(u, v)]\n",
    "    \n",
    "    # Base cases\n",
    "    if u == v:\n",
    "        return 1.0\n",
    "    predecessors_u = set(G.predecessors(u))\n",
    "    predecessors_v = set(G.predecessors(v))\n",
    "    if len(predecessors_u) == 0 or len(predecessors_v) == 0:\n",
    "        return 0\n",
    "\n",
    "    # Recursive computation with memoization\n",
    "    sum_sim = 0\n",
    "    for w in predecessors_u:\n",
    "        for x in predecessors_v:\n",
    "            if (w, x) not in sim_cache:  # Check if result is already in cache\n",
    "                sim_cache[(w, x)] = simrank(G, w, x, c=c, max_iter=max_iter-1, eps=eps, sim_cache=sim_cache)\n",
    "            sum_sim += sim_cache[(w, x)]\n",
    "    \n",
    "    sim_new = (c / (len(predecessors_u) * len(predecessors_v))) * sum_sim\n",
    "    sim_cache[(u, v)] = sim_new  # Cache this computation\n",
    "    \n",
    "    return sim_new"
   ]
  },
  {
   "cell_type": "code",
   "execution_count": 12,
   "metadata": {},
   "outputs": [
    {
     "name": "stdout",
     "output_type": "stream",
     "text": [
      "SimRank similarity between 'Eye Pain' and 'Blindness': 0.04986847745134474\n"
     ]
    }
   ],
   "source": [
    "if node_id_eye_pain and node_id_blindness:\n",
    "    # Now call the SimRank function with the correct node IDs\n",
    "    similarity = simrank(H, node_id_eye_pain, node_id_blindness)\n",
    "    print(f\"SimRank similarity between 'Eye Pain' and 'Blindness': {similarity}\")\n",
    "else:\n",
    "    print(\"One or both of the symptom node IDs could not be found.\")"
   ]
  },
  {
   "cell_type": "markdown",
   "metadata": {},
   "source": [
    "### 5. Suppose you have an imaginary patient with one symptom"
   ]
  },
  {
   "cell_type": "code",
   "execution_count": 13,
   "metadata": {},
   "outputs": [
    {
     "name": "stdout",
     "output_type": "stream",
     "text": [
      "The symptom with the highest average degree and diversity is Edema with an average degree of 24.5 and connecting to 1 different types of nodes.\n"
     ]
    }
   ],
   "source": [
    "import networkx as nx\n",
    "\n",
    "def find_symptom_with_highest_degree_and_diversity(H):\n",
    "    # Dictionary to store symptoms and their degrees and diversity\n",
    "    symptom_stats = {}\n",
    "\n",
    "    # Iterate over all nodes to find symptoms and calculate their stats\n",
    "    for node, data in H.nodes(data=True):\n",
    "        if data.get('kind') == 'Symptom':\n",
    "            # Calculate in-degree and out-degree\n",
    "            in_degree = H.in_degree(node)\n",
    "            out_degree = H.out_degree(node)\n",
    "            avg_degree = (in_degree + out_degree) / 2\n",
    "\n",
    "            # Identify all unique types of connected nodes (both in and out)\n",
    "            connected_types = set()\n",
    "            for neighbor in set(H.predecessors(node)).union(set(H.successors(node))):\n",
    "                neighbor_data = H.nodes[neighbor]\n",
    "                if 'kind' in neighbor_data:\n",
    "                    connected_types.add(neighbor_data['kind'])\n",
    "\n",
    "            # Store stats\n",
    "            symptom_stats[node] = {\n",
    "                'name': data.get('name', 'Unknown Symptom'),\n",
    "                'avg_degree': avg_degree,\n",
    "                'diversity': len(connected_types)\n",
    "            }\n",
    "    \n",
    "    # Find the symptom with the highest average degree and the highest diversity\n",
    "    # Initialize variables to keep track of the best symptom\n",
    "    best_symptom = None\n",
    "    max_avg_degree = -1\n",
    "    max_diversity = -1\n",
    "\n",
    "    for node, stats in symptom_stats.items():\n",
    "        if stats['avg_degree'] > max_avg_degree or (stats['avg_degree'] == max_avg_degree and stats['diversity'] > max_diversity):\n",
    "            best_symptom = stats['name']\n",
    "            max_avg_degree = stats['avg_degree']\n",
    "            max_diversity = stats['diversity']\n",
    "\n",
    "    return best_symptom, max_avg_degree, max_diversity\n",
    "\n",
    "best_symptom, degree, diversity = find_symptom_with_highest_degree_and_diversity(H)\n",
    "print(f\"The symptom with the highest average degree and diversity is {best_symptom} with an average degree of {degree} and connecting to {diversity} different types of nodes.\")\n"
   ]
  },
  {
   "cell_type": "code",
   "execution_count": 14,
   "metadata": {},
   "outputs": [
    {
     "name": "stdout",
     "output_type": "stream",
     "text": [
      "Top 5 symptoms by highest average degree and diversity:\n",
      "1. Edema - Average Degree: 24.5, Connected Types: Disease\n",
      "2. Pain - Average Degree: 21.0, Connected Types: Disease\n",
      "3. Abdominal Pain - Average Degree: 20.0, Connected Types: Disease\n",
      "4. Fever - Average Degree: 19.5, Connected Types: Disease\n",
      "5. Vomiting - Average Degree: 19.0, Connected Types: Disease\n"
     ]
    }
   ],
   "source": [
    "import networkx as nx\n",
    "\n",
    "def find_top_symptoms(G):\n",
    "    # List to store symptoms and their degrees and connected types\n",
    "    symptom_stats = []\n",
    "\n",
    "    # Iterate over all nodes to find symptoms and calculate their stats\n",
    "    for node, data in G.nodes(data=True):\n",
    "        if data.get('kind') == 'Symptom':\n",
    "            # Calculate in-degree and out-degree\n",
    "            in_degree = G.in_degree(node)\n",
    "            out_degree = G.out_degree(node)\n",
    "            avg_degree = (in_degree + out_degree) / 2\n",
    "\n",
    "            # Identify all unique types of connected nodes (both in and out)\n",
    "            connected_types = set()\n",
    "            for neighbor in set(G.predecessors(node)).union(set(G.successors(node))):\n",
    "                neighbor_data = G.nodes[neighbor]\n",
    "                if 'kind' in neighbor_data:\n",
    "                    connected_types.add(neighbor_data['kind'])\n",
    "\n",
    "            # Append stats for each symptom, including connected types\n",
    "            symptom_stats.append({\n",
    "                'node_id': node,\n",
    "                'name': data.get('name', 'Unknown Symptom'),\n",
    "                'avg_degree': avg_degree,\n",
    "                'connected_types': connected_types  # Store the set of types\n",
    "            })\n",
    "    \n",
    "    # Sort symptoms by average degree first, then by diversity in case of ties\n",
    "    sorted_symptoms = sorted(symptom_stats, key=lambda x: (-x['avg_degree'], -len(x['connected_types'])))\n",
    "\n",
    "    # Return the top 5 symptoms\n",
    "    return sorted_symptoms[:5]\n",
    "\n",
    "\n",
    "top_symptoms = find_top_symptoms(H)\n",
    "print(\"Top 5 symptoms by highest average degree and diversity:\")\n",
    "for idx, symptom in enumerate(top_symptoms, 1):\n",
    "    types = ', '.join(symptom['connected_types'])  # Convert set of types to a comma-separated string\n",
    "    print(f\"{idx}. {symptom['name']} - Average Degree: {symptom['avg_degree']}, Connected Types: {types}\")\n"
   ]
  },
  {
   "cell_type": "code",
   "execution_count": 15,
   "metadata": {},
   "outputs": [
    {
     "name": "stdout",
     "output_type": "stream",
     "text": [
      "Node ID for 'Edema': Symptom::D004487\n",
      "The most connected Disease of Edema is breast cancer with a connection degree of 1159\n"
     ]
    }
   ],
   "source": [
    "import networkx as nx\n",
    "\n",
    "# Function to find the node ID by the name and kind\n",
    "def find_node_id_by_name_and_kind(H, name, kind):\n",
    "    for node, attrs in H.nodes(data=True):\n",
    "        if attrs.get('name') == name and attrs.get('kind') == kind:\n",
    "            return node\n",
    "    return None\n",
    "\n",
    "# Finding the node ID for \"Edema\" which is a symptom\n",
    "node_id_edema = find_node_id_by_name_and_kind(H, \"Edema\", \"Symptom\")\n",
    "print(f\"Node ID for 'Edema': {node_id_edema}\")\n",
    "\n",
    "# Function to find the most connected side effect connected to a symptom node\n",
    "def find_most_connected_disease(H, symptom_node_id):\n",
    "    if not symptom_node_id:\n",
    "        return \"Symptom node not found\", 0\n",
    "\n",
    "    disease_degrees = {}\n",
    "    # Check all connected nodes and assess if they are side effects\n",
    "    for neighbor in set(H.successors(symptom_node_id)) | set(H.predecessors(symptom_node_id)):\n",
    "        if H.nodes[neighbor].get('kind') == 'Disease':\n",
    "            # Calculate the total connections this side effect has within the entire graph\n",
    "            total_degree = H.degree(neighbor)\n",
    "            disease_degrees[neighbor] = total_degree\n",
    "\n",
    "    if not  disease_degrees:\n",
    "        return \"No Disease connected\", 0\n",
    "\n",
    "    # Find the side effect with the highest number of connections\n",
    "    most_connected = max(disease_degrees, key= disease_degrees.get)\n",
    "    return H.nodes[most_connected]['name'],  disease_degrees[most_connected]\n",
    "\n",
    "# Analyze the most connected side effect to Edema\n",
    "most_connected_side_effect, degree = find_most_connected_disease(H, node_id_edema)\n",
    "print(f\"The most connected Disease of Edema is {most_connected_side_effect} with a connection degree of {degree}\")\n"
   ]
  }
 ],
 "metadata": {
  "kernelspec": {
   "display_name": "Python 3",
   "language": "python",
   "name": "python3"
  },
  "language_info": {
   "codemirror_mode": {
    "name": "ipython",
    "version": 3
   },
   "file_extension": ".py",
   "mimetype": "text/x-python",
   "name": "python",
   "nbconvert_exporter": "python",
   "pygments_lexer": "ipython3",
   "version": "3.10.6"
  }
 },
 "nbformat": 4,
 "nbformat_minor": 2
}
