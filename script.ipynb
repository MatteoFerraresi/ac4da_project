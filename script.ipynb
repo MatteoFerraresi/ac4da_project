{
 "cells": [
  {
   "cell_type": "code",
   "execution_count": 1,
   "metadata": {},
   "outputs": [],
   "source": [
    "import pandas as pd\n",
    "import networkx as nx\n",
    "\n",
    "# Step 1: Load the Data\n",
    "# Load the node data\n",
    "nodes_df = pd.read_csv('hetionet-v1.0-nodes.tsv', sep='\\t', header=0, names=['ID', 'Name', 'Kind'])\n",
    "\n",
    "# Load the edge data\n",
    "edges_df = pd.read_csv('edges.sif', sep='\\t', header=0, names=['Source', 'Metaedge', 'Target'])\n",
    "\n",
    "# Step 2: Create the Graph\n",
    "G = nx.MultiDiGraph()\n",
    "\n",
    "# Add nodes with ID as the node identifier\n",
    "for _, row in nodes_df.iterrows():\n",
    "    G.add_node(row['ID'], name=row['Name'], kind=row['Kind'])\n",
    "\n",
    "# Add edges\n",
    "for _, row in edges_df.iterrows():\n",
    "    G.add_edge(row['Source'], row['Target'], type=row['Metaedge'])\n",
    "\n",
    "# Now G is your graph structure containing nodes with their attributes and the edges between them"
   ]
  },
  {
   "cell_type": "code",
   "execution_count": 4,
   "metadata": {},
   "outputs": [
    {
     "name": "stdout",
     "output_type": "stream",
     "text": [
      "Different types for nodes: 11\n",
      "Different types for edges: 24\n"
     ]
    }
   ],
   "source": [
    "# Count different types for nodes\n",
    "node_kind = {node_attrs['kind'] for _, node_attrs in G.nodes(data=True)}\n",
    "\n",
    "# Count different types for edges\n",
    "edge_types = {edge_attrs['type'] for _, _, edge_attrs in G.edges(data=True)}\n",
    "\n",
    "H = G.to_directed()\n",
    "\n",
    "# Print counts\n",
    "print(\"Different types for nodes:\", len(node_kind))\n",
    "print(\"Different types for edges:\", len(edge_types))"
   ]
  },
  {
   "cell_type": "code",
   "execution_count": 5,
   "metadata": {},
   "outputs": [
    {
     "name": "stdout",
     "output_type": "stream",
     "text": [
      "Nodes associated with each type:\n",
      "Anatomy: 402\n",
      "Biological Process: 11381\n",
      "Cellular Component: 1391\n",
      "Compound: 1552\n",
      "Disease: 137\n",
      "Gene: 20945\n",
      "Molecular Function: 2884\n",
      "Pathway: 1822\n",
      "Pharmacologic Class: 345\n",
      "Side Effect: 5734\n",
      "Symptom: 438\n",
      "\n",
      "Edges associated with each type:\n",
      "AdG: 102240\n",
      "AeG: 526407\n",
      "AuG: 97848\n",
      "CrC: 6486\n",
      "CtD: 755\n",
      "CbG: 11571\n",
      "CuG: 18756\n",
      "CcSE: 138944\n",
      "CdG: 21102\n",
      "CpD: 390\n",
      "DdG: 7623\n",
      "DpS: 3357\n",
      "DlA: 3602\n",
      "DrD: 543\n",
      "DaG: 12623\n",
      "DuG: 7731\n",
      "GiG: 147164\n",
      "GpCC: 73566\n",
      "GpBP: 559504\n",
      "GcG: 61690\n",
      "GpMF: 97222\n",
      "GpPW: 84372\n",
      "Gr>G: 265672\n",
      "PCiC: 1029\n"
     ]
    }
   ],
   "source": [
    "# Count nodes associated with each type\n",
    "node_counts = {}\n",
    "for node, node_attrs in G.nodes(data=True):\n",
    "    node_kind = node_attrs['kind']\n",
    "    if node_kind not in node_counts:\n",
    "        node_counts[node_kind] = 1\n",
    "    else:\n",
    "        node_counts[node_kind] += 1\n",
    "\n",
    "# Count edges associated with each type\n",
    "edge_counts = {}\n",
    "for _, _, edge_attrs in G.edges(data=True):\n",
    "    edge_type = edge_attrs['type']\n",
    "    if edge_type not in edge_counts:\n",
    "        edge_counts[edge_type] = 1\n",
    "    else:\n",
    "        edge_counts[edge_type] += 1\n",
    "\n",
    "# Print counts\n",
    "#List the Total Number of Entities for Each Unique Kind\n",
    "print(\"Nodes associated with each kind:\")\n",
    "for node_kind, count in node_counts.items():\n",
    "    print(f\"{node_kind}: {count}\")\n",
    "\n",
    "print(\"\\nEdges associated with each type:\")\n",
    "for edge_type, count in edge_counts.items():\n",
    "    print(f\"{edge_type}: {count}\")"
   ]
  },
  {
   "cell_type": "code",
   "execution_count": 6,
   "metadata": {},
   "outputs": [
    {
     "name": "stdout",
     "output_type": "stream",
     "text": [
      "Average In-Degree for each node type:\n",
      "Anatomy: 8.960199004975124\n",
      "Biological Process: 49.16123363500571\n",
      "Cellular Component: 52.887131560028756\n",
      "Compound: 4.842139175257732\n",
      "Disease: 12.321167883211679\n",
      "Gene: 61.1328240630222\n",
      "Molecular Function: 33.71081830790569\n",
      "Pathway: 46.30735455543359\n",
      "Pharmacologic Class: 0.0\n",
      "Side Effect: 24.231600976630624\n",
      "Symptom: 7.664383561643835\n",
      "\n",
      "Average Out-Degree for each node type:\n",
      "Anatomy: 1807.2014925373135\n",
      "Biological Process: 0.0\n",
      "Cellular Component: 0.0\n",
      "Compound: 127.5798969072165\n",
      "Disease: 258.97080291970804\n",
      "Gene: 61.55120553831463\n",
      "Molecular Function: 0.0\n",
      "Pathway: 0.0\n",
      "Pharmacologic Class: 2.982608695652174\n",
      "Side Effect: 0.0\n",
      "Symptom: 0.0\n"
     ]
    }
   ],
   "source": [
    "# H is our direct graph\n",
    "from collections import defaultdict\n",
    "\n",
    "# Initialize dictionaries to sum degrees and count nodes for each type\n",
    "in_degrees = defaultdict(int)\n",
    "out_degrees = defaultdict(int)\n",
    "counts = defaultdict(int)\n",
    "\n",
    "for node, attrs in H.nodes(data=True):\n",
    "    node_kind = attrs['kind']\n",
    "    counts[node_kind] += 1\n",
    "    in_degrees[node_kind] += H.in_degree(node)\n",
    "    out_degrees[node_kind] += H.out_degree(node)\n",
    "\n",
    "# Calculate and print average in/out-degrees\n",
    "avg_in_degrees = {node_kind: in_deg / counts[node_kind] for node_kind, in_deg in in_degrees.items()}\n",
    "avg_out_degrees = {node_kind: out_deg / counts[node_kind] for node_kind, out_deg in out_degrees.items()}\n",
    "\n",
    "print(\"Average In-Degree for each node type:\")\n",
    "for node_kind, avg_in in avg_in_degrees.items():\n",
    "    print(f\"{node_kind}: {avg_in}\")\n",
    "\n",
    "print(\"\\nAverage Out-Degree for each node type:\")\n",
    "for node_kind, avg_out in avg_out_degrees.items():\n",
    "    print(f\"{node_kind}: {avg_out}\")"
   ]
  },
  {
   "cell_type": "code",
   "execution_count": 7,
   "metadata": {},
   "outputs": [
    {
     "name": "stdout",
     "output_type": "stream",
     "text": [
      "Top 5 diseases by in-degree (most incoming connections):\n",
      "hypertension: In-Degree = 73\n",
      "hematologic cancer: In-Degree = 53\n",
      "breast cancer: In-Degree = 44\n",
      "asthma: In-Degree = 41\n",
      "coronary artery disease: In-Degree = 40\n",
      "\n",
      "Top 5 diseases by out-degree (most outgoing connections):\n",
      "breast cancer: Out-Degree = 1115\n",
      "hematologic cancer: Out-Degree = 1076\n",
      "IgA glomerulonephritis: Out-Degree = 966\n",
      "melanoma: Out-Degree = 931\n",
      "rheumatoid arthritis: Out-Degree = 868\n"
     ]
    }
   ],
   "source": [
    "# Initialize dictionaries to store in-degree and out-degree for diseases\n",
    "disease_connections = defaultdict(lambda: {'in': 0, 'out': 0})\n",
    "\n",
    "# Filter and compute degrees for diseases\n",
    "for node, attrs in H.nodes(data=True):\n",
    "    if attrs['kind'] == 'Disease':\n",
    "        disease_connections[node]['in'] = H.in_degree(node)\n",
    "        disease_connections[node]['out'] = H.out_degree(node)\n",
    "\n",
    "# Sort diseases by in-degree and out-degree\n",
    "most_connected_by_in_degree = sorted(disease_connections.items(), key=lambda x: x[1]['in'], reverse=True)\n",
    "most_connected_by_out_degree = sorted(disease_connections.items(), key=lambda x: x[1]['out'], reverse=True)\n",
    "\n",
    "# Display the top 5 most connected diseases by in-degree\n",
    "print(\"Top 5 diseases by in-degree (most incoming connections):\")\n",
    "for disease, degrees in most_connected_by_in_degree[:5]:\n",
    "    disease_name = H.nodes[disease]['name']  # Get the disease name\n",
    "    print(f\"{disease_name}: In-Degree = {degrees['in']}\")\n",
    "\n",
    "# Display the top 5 most connected diseases by out-degree\n",
    "print(\"\\nTop 5 diseases by out-degree (most outgoing connections):\")\n",
    "for disease, degrees in most_connected_by_out_degree[:5]:\n",
    "    disease_name = H.nodes[disease]['name']  # Get the disease name\n",
    "    print(f\"{disease_name}: Out-Degree = {degrees['out']}\")\n"
   ]
  },
  {
   "cell_type": "markdown",
   "metadata": {},
   "source": [
    "### Compute the sub-graph of “Disease” and “Symptom”"
   ]
  },
  {
   "cell_type": "code",
   "execution_count": 8,
   "metadata": {},
   "outputs": [],
   "source": [
    "# H is our directed graph\n",
    "# and it has a 'type' attribute for each node specifying whether it's a Disease, Symptom, or something else\n",
    "\n",
    "# Step 1: Identify Disease and Symptom nodes\n",
    "disease_and_symptom_nodes = [node for node, attrs in H.nodes(data=True) if attrs.get('kind') in ['Disease', 'Symptom']]\n",
    "\n",
    "# Step 2: Create the sub-graph\n",
    "disease_symptom_subgraph = H.subgraph(disease_and_symptom_nodes).copy()\n",
    "\n",
    "# Now 'disease_symptom_subgraph' is a directed sub-graph of 'H' \n",
    "# that includes only Diseases and Symptoms and the edges between them\n"
   ]
  },
  {
   "cell_type": "markdown",
   "metadata": {},
   "source": [
    "### Compute the average number of connections between a disease and a symptom."
   ]
  },
  {
   "cell_type": "code",
   "execution_count": 9,
   "metadata": {},
   "outputs": [
    {
     "name": "stdout",
     "output_type": "stream",
     "text": [
      "Total connections: 3900\n",
      "Total disease and symptom nodes: 575\n",
      "Average number of connections between a disease and a symptom: 6.782608695652174\n"
     ]
    }
   ],
   "source": [
    "# 'disease_symptom_subgraph' is your MultiDiGraph containing only diseases and symptoms\n",
    "\n",
    "# Step 1: Count the total number of connections (edges)\n",
    "# In a MultiDiGraph, this correctly accounts for multiple edges between the same nodes\n",
    "total_connections = len(disease_symptom_subgraph.edges())\n",
    "\n",
    "# Step 2: Determine the number of diseases and symptoms\n",
    "diseases_count = sum(1 for _, data in disease_symptom_subgraph.nodes(data=True) if data.get('kind') == 'Disease')\n",
    "symptoms_count = sum(1 for _, data in disease_symptom_subgraph.nodes(data=True) if data.get('kind') == 'Symptom')\n",
    "\n",
    "# The total number of disease and symptom nodes\n",
    "total_disease_symptom_nodes = diseases_count + symptoms_count\n",
    "\n",
    "# Step 3: Compute the average number of connections\n",
    "# The calculation of the average connections per node remains the same\n",
    "average_connections = total_connections / total_disease_symptom_nodes\n",
    "\n",
    "print(f\"Total connections: {total_connections}\")\n",
    "print(f\"Total disease and symptom nodes: {total_disease_symptom_nodes}\")\n",
    "print(f\"Average number of connections between a disease and a symptom: {average_connections}\")"
   ]
  },
  {
   "cell_type": "markdown",
   "metadata": {},
   "source": [
    "### Compute the similarity between “type 1 diabetes mellitus” and “type 2 diabetes mellitus”"
   ]
  },
  {
   "cell_type": "code",
   "execution_count": 13,
   "metadata": {},
   "outputs": [
    {
     "name": "stdout",
     "output_type": "stream",
     "text": [
      "Jaccard Similarity between 'type 1 diabetes mellitus' and 'type 2 diabetes mellitus' is 0.13267326732673268\n"
     ]
    }
   ],
   "source": [
    "# Step 1: Identify the node IDs for the two diseases\n",
    "# Ensure we select only the first matching node for each disease name\n",
    "node_id_type1 = next((node for node, attrs in H.nodes(data=True) if attrs.get('name') == \"type 1 diabetes mellitus\"), None)\n",
    "node_id_type2 = next((node for node, attrs in H.nodes(data=True) if attrs.get('name') == \"type 2 diabetes mellitus\"), None)\n",
    "\n",
    "if not node_id_type1 or not node_id_type2:\n",
    "    print(\"One of the disease nodes could not be found.\")\n",
    "else:\n",
    "    # Step 2: Get Neighbors for both diseases\n",
    "    # For directed graphs, consider successors for outgoing and predecessors for incoming edges\n",
    "    neighbors_type1 = set(H.successors(node_id_type1)) | set(H.predecessors(node_id_type1))\n",
    "    neighbors_type2 = set(H.successors(node_id_type2)) | set(H.predecessors(node_id_type2))\n",
    "\n",
    "    # Step 3: Compute Jaccard Similarity\n",
    "    intersection = len(neighbors_type1 & neighbors_type2)\n",
    "    union = len(neighbors_type1 | neighbors_type2)\n",
    "    jaccard_similarity = intersection / union if union else 0\n",
    "\n",
    "    print(f\"Jaccard Similarity between 'type 1 diabetes mellitus' and 'type 2 diabetes mellitus' is {jaccard_similarity}\")\n"
   ]
  },
  {
   "cell_type": "markdown",
   "metadata": {},
   "source": [
    "The Jaccard similarity between \"type 1 diabetes mellitus\" and \"type 2 diabetes mellitus\" is approximately 13.27% of their combined neighbor sets (e.g., symptoms, treatments, related conditions) are shared. This suggests that the majority of their connections are unique to each disease."
   ]
  },
  {
   "cell_type": "markdown",
   "metadata": {},
   "source": [
    "### Define and compute also the similarity between two symptoms like “EyePain” and ”Blindness”"
   ]
  },
  {
   "cell_type": "code",
   "execution_count": 24,
   "metadata": {},
   "outputs": [
    {
     "name": "stdout",
     "output_type": "stream",
     "text": [
      "Jaccard Similarity between 'Eye Pain' and 'Blindness': 0.35\n"
     ]
    }
   ],
   "source": [
    "# Step 1: Identify the node IDs for the two symptoms\n",
    "node_id_eye_pain = next((node for node, attrs in H.nodes(data=True) if attrs.get('name') == \"Eye Pain\" and attrs.get('kind') == \"Symptom\"), None)\n",
    "node_id_blindness = next((node for node, attrs in H.nodes(data=True) if attrs.get('name') == \"Blindness\" and attrs.get('kind') == \"Symptom\"), None)\n",
    "\n",
    "if not node_id_eye_pain or not node_id_blindness:\n",
    "    print(\"One of the symptom nodes could not be found.\")\n",
    "else:\n",
    "    # Step 2: Get Neighbors for both symptoms\n",
    "    neighbors_eye_pain = set(H.successors(node_id_eye_pain)) | set(H.predecessors(node_id_eye_pain))\n",
    "    neighbors_blindness = set(H.successors(node_id_blindness)) | set(H.predecessors(node_id_blindness))\n",
    "\n",
    "    # Step 3: Compute Jaccard Similarity\n",
    "    intersection = len(neighbors_eye_pain & neighbors_blindness)\n",
    "    union = len(neighbors_eye_pain | neighbors_blindness)\n",
    "    jaccard_similarity = intersection / union if union else 0\n",
    "\n",
    "    print(f\"Jaccard Similarity between 'Eye Pain' and 'Blindness': {jaccard_similarity}\")"
   ]
  },
  {
   "cell_type": "markdown",
   "metadata": {},
   "source": [
    "Similarity of 0 means they share no connections."
   ]
  },
  {
   "cell_type": "markdown",
   "metadata": {},
   "source": [
    "# Structural Similarity Measures (e.g., SimRank)\n",
    "\n",
    "We adopt the SimRank a more sophisticated approaches than the straightforward Jaccard similarity for comparing nodes in a graph, it's usefull especially in our case in which the graphs has multi-layered relationships.\n",
    "\n",
    "- similarity between \"EyePain\" and \"Blindness\" symptoms"
   ]
  },
  {
   "cell_type": "code",
   "execution_count": 28,
   "metadata": {},
   "outputs": [
    {
     "name": "stdout",
     "output_type": "stream",
     "text": [
      "Node ID for 'Eye Pain': Symptom::D058447\n",
      "Node ID for 'Blindness': Symptom::D001766\n"
     ]
    }
   ],
   "source": [
    "# Function to find node ID by name\n",
    "def find_node_id_by_name(G, name):\n",
    "    for node, attrs in G.nodes(data=True):\n",
    "        if 'name' in attrs and attrs['name'] == name and attrs['kind'] == \"Symptom\":\n",
    "            return node\n",
    "    return None\n",
    "\n",
    "# Finding node IDs for \"Eye Pain\" and \"Blindness\"\n",
    "node_id_eye_pain = find_node_id_by_name(H, \"Eye Pain\")\n",
    "node_id_blindness = find_node_id_by_name(H, \"Blindness\")\n",
    "\n",
    "print(f\"Node ID for 'Eye Pain': {node_id_eye_pain}\")\n",
    "print(f\"Node ID for 'Blindness': {node_id_blindness}\")"
   ]
  },
  {
   "cell_type": "code",
   "execution_count": 29,
   "metadata": {},
   "outputs": [],
   "source": [
    "def simrank(G, u, v, c=0.8, max_iter=10, eps=1e-4, sim_cache=None):\n",
    "    # Initialize the cache on the first call\n",
    "    if sim_cache is None:\n",
    "        sim_cache = {}\n",
    "    \n",
    "    # Check for direct cache hit\n",
    "    if (u, v) in sim_cache:\n",
    "        return sim_cache[(u, v)]\n",
    "    \n",
    "    # Base cases\n",
    "    if u == v:\n",
    "        return 1.0\n",
    "    predecessors_u = set(G.predecessors(u))\n",
    "    predecessors_v = set(G.predecessors(v))\n",
    "    if len(predecessors_u) == 0 or len(predecessors_v) == 0:\n",
    "        return 0\n",
    "\n",
    "    # Recursive computation with memoization\n",
    "    sum_sim = 0\n",
    "    for w in predecessors_u:\n",
    "        for x in predecessors_v:\n",
    "            if (w, x) not in sim_cache:  # Check if result is already in cache\n",
    "                sim_cache[(w, x)] = simrank(G, w, x, c=c, max_iter=max_iter-1, eps=eps, sim_cache=sim_cache)\n",
    "            sum_sim += sim_cache[(w, x)]\n",
    "    \n",
    "    sim_new = (c / (len(predecessors_u) * len(predecessors_v))) * sum_sim\n",
    "    sim_cache[(u, v)] = sim_new  # Cache this computation\n",
    "    \n",
    "    return sim_new"
   ]
  },
  {
   "cell_type": "code",
   "execution_count": 30,
   "metadata": {},
   "outputs": [
    {
     "name": "stdout",
     "output_type": "stream",
     "text": [
      "SimRank similarity between 'Eye Pain' and 'Blindness': 0.04986847745134472\n"
     ]
    }
   ],
   "source": [
    "if node_id_eye_pain and node_id_blindness:\n",
    "    # Now call the SimRank function with the correct node IDs\n",
    "    similarity = simrank(H, node_id_eye_pain, node_id_blindness)\n",
    "    print(f\"SimRank similarity between 'Eye Pain' and 'Blindness': {similarity}\")\n",
    "else:\n",
    "    print(\"One or both of the symptom node IDs could not be found.\")"
   ]
  },
  {
   "cell_type": "markdown",
   "metadata": {},
   "source": [
    "GUARDARE FINO QUIIII!!!\n",
    "SOTTO CODICE VECCHIOOOO!!!\n",
    "\n",
    "NON CANCELLARE CODICE SOTTO, ASPETTIAMO UN ATTIMO"
   ]
  },
  {
   "cell_type": "markdown",
   "metadata": {},
   "source": []
  },
  {
   "cell_type": "markdown",
   "metadata": {},
   "source": []
  },
  {
   "cell_type": "code",
   "execution_count": null,
   "metadata": {},
   "outputs": [],
   "source": []
  },
  {
   "cell_type": "code",
   "execution_count": 1,
   "metadata": {},
   "outputs": [],
   "source": [
    "import networkx as nx\n",
    "import matplotlib.pyplot as plt\n",
    "\n",
    "def read_node_file(file_path):\n",
    "    nodes = []\n",
    "    with open(file_path, 'r') as f:\n",
    "        for line in f:\n",
    "            parts = line.strip().split('\\t')\n",
    "            node_id = parts[0]\n",
    "            node_name = parts[1]\n",
    "            node_type = parts[2]\n",
    "            nodes.append((node_id, node_name, node_type))\n",
    "    return nodes\n",
    "\n",
    "def read_edge_file(file_path):\n",
    "    edges = []\n",
    "    with open(file_path, 'r') as f:\n",
    "        for line in f:\n",
    "            parts = line.strip().split('\\t')\n",
    "            source = parts[0]\n",
    "            target = parts[1]\n",
    "            metaedge = parts[2]\n",
    "            edges.append((source, target, metaedge))\n",
    "    return edges\n",
    "\n",
    "# File paths for nodes and edges\n",
    "node_file_path = 'hetionet-v1.0-nodes.tsv'\n",
    "edge_file_path = 'edges.sif'\n",
    "\n",
    "# Read node and edge data\n",
    "nodes_data = read_node_file(node_file_path)\n",
    "edges_data = read_edge_file(edge_file_path)\n",
    "\n",
    "edges_data = edges_data[1:]\n",
    "#edges_data\n",
    "nodes_data = nodes_data[1:]  \n",
    "#nodes_data\n"
   ]
  },
  {
   "cell_type": "code",
   "execution_count": 2,
   "metadata": {},
   "outputs": [],
   "source": [
    "d = [x[0] for x in nodes_data]\n",
    "v = [x[2] for x in nodes_data]\n",
    "\n",
    "nodes_stripped = [(x, y) for x, y in zip(d, v)]\n",
    "\n",
    "#nodes_stripped"
   ]
  },
  {
   "cell_type": "code",
   "execution_count": 3,
   "metadata": {},
   "outputs": [
    {
     "name": "stdout",
     "output_type": "stream",
     "text": [
      "Different types for nodes: 11\n",
      "Different types for edges: 24\n"
     ]
    }
   ],
   "source": [
    "# Create a graph\n",
    "G = nx.MultiDiGraph()\n",
    "\n",
    "# Add nodes with types\n",
    "for node_id, node_type in nodes_stripped:\n",
    "    G.add_node(node_id, type=node_type)\n",
    "\n",
    "# Add edges with types\n",
    "for source, edge_type, target in edges_data:\n",
    "    G.add_edge(source, target, type=edge_type)\n",
    "\n",
    "# Count different types for nodes\n",
    "node_types = {node_attrs['type'] for _, node_attrs in G.nodes(data=True)}\n",
    "\n",
    "# Count different types for edges\n",
    "edge_types = {edge_attrs['type'] for _, _, edge_attrs in G.edges(data=True)}\n",
    "\n",
    "H = G.to_directed()\n",
    "\n",
    "# Print counts\n",
    "print(\"Different types for nodes:\", len(node_types))\n",
    "print(\"Different types for edges:\", len(edge_types))"
   ]
  },
  {
   "cell_type": "code",
   "execution_count": 4,
   "metadata": {},
   "outputs": [
    {
     "name": "stdout",
     "output_type": "stream",
     "text": [
      "Nodes associated with each type:\n",
      "Anatomy: 402\n",
      "Biological Process: 11381\n",
      "Cellular Component: 1391\n",
      "Compound: 1552\n",
      "Disease: 137\n",
      "Gene: 20945\n",
      "Molecular Function: 2884\n",
      "Pathway: 1822\n",
      "Pharmacologic Class: 345\n",
      "Side Effect: 5734\n",
      "Symptom: 438\n",
      "\n",
      "Edges associated with each type:\n",
      "AdG: 102240\n",
      "AeG: 526407\n",
      "AuG: 97848\n",
      "CrC: 6486\n",
      "CtD: 755\n",
      "CbG: 11571\n",
      "CuG: 18756\n",
      "CcSE: 138944\n",
      "CdG: 21102\n",
      "CpD: 390\n",
      "DdG: 7623\n",
      "DpS: 3357\n",
      "DlA: 3602\n",
      "DrD: 543\n",
      "DaG: 12623\n",
      "DuG: 7731\n",
      "GiG: 147164\n",
      "GpCC: 73566\n",
      "GpBP: 559504\n",
      "GcG: 61690\n",
      "GpMF: 97222\n",
      "GpPW: 84372\n",
      "Gr>G: 265672\n",
      "PCiC: 1029\n"
     ]
    }
   ],
   "source": [
    "\n",
    "# Count nodes associated with each type\n",
    "node_counts = {}\n",
    "for node, node_attrs in G.nodes(data=True):\n",
    "    node_type = node_attrs['type']\n",
    "    if node_type not in node_counts:\n",
    "        node_counts[node_type] = 1\n",
    "    else:\n",
    "        node_counts[node_type] += 1\n",
    "\n",
    "# Count edges associated with each type\n",
    "edge_counts = {}\n",
    "for _, _, edge_attrs in G.edges(data=True):\n",
    "    edge_type = edge_attrs['type']\n",
    "    if edge_type not in edge_counts:\n",
    "        edge_counts[edge_type] = 1\n",
    "    else:\n",
    "        edge_counts[edge_type] += 1\n",
    "\n",
    "# Print counts\n",
    "#List the Total Number of Entities for Each Unique Kind\n",
    "print(\"Nodes associated with each type:\")\n",
    "for node_type, count in node_counts.items():\n",
    "    print(f\"{node_type}: {count}\")\n",
    "\n",
    "print(\"\\nEdges associated with each type:\")\n",
    "for edge_type, count in edge_counts.items():\n",
    "    print(f\"{edge_type}: {count}\")"
   ]
  },
  {
   "cell_type": "code",
   "execution_count": 5,
   "metadata": {},
   "outputs": [
    {
     "name": "stdout",
     "output_type": "stream",
     "text": [
      "Average In-Degree for each node type:\n",
      "Anatomy: 8.960199004975124\n",
      "Biological Process: 49.16123363500571\n",
      "Cellular Component: 52.887131560028756\n",
      "Compound: 4.842139175257732\n",
      "Disease: 12.321167883211679\n",
      "Gene: 61.1328240630222\n",
      "Molecular Function: 33.71081830790569\n",
      "Pathway: 46.30735455543359\n",
      "Pharmacologic Class: 0.0\n",
      "Side Effect: 24.231600976630624\n",
      "Symptom: 7.664383561643835\n",
      "\n",
      "Average Out-Degree for each node type:\n",
      "Anatomy: 1807.2014925373135\n",
      "Biological Process: 0.0\n",
      "Cellular Component: 0.0\n",
      "Compound: 127.5798969072165\n",
      "Disease: 258.97080291970804\n",
      "Gene: 61.55120553831463\n",
      "Molecular Function: 0.0\n",
      "Pathway: 0.0\n",
      "Pharmacologic Class: 2.982608695652174\n",
      "Side Effect: 0.0\n",
      "Symptom: 0.0\n"
     ]
    }
   ],
   "source": [
    "# H is our direct graph\n",
    "from collections import defaultdict\n",
    "\n",
    "# Initialize dictionaries to sum degrees and count nodes for each type\n",
    "in_degrees = defaultdict(int)\n",
    "out_degrees = defaultdict(int)\n",
    "counts = defaultdict(int)\n",
    "\n",
    "for node, attrs in H.nodes(data=True):\n",
    "    node_type = attrs['type']\n",
    "    counts[node_type] += 1\n",
    "    in_degrees[node_type] += H.in_degree(node)\n",
    "    out_degrees[node_type] += H.out_degree(node)\n",
    "\n",
    "# Calculate and print average in/out-degrees\n",
    "avg_in_degrees = {node_type: in_deg / counts[node_type] for node_type, in_deg in in_degrees.items()}\n",
    "avg_out_degrees = {node_type: out_deg / counts[node_type] for node_type, out_deg in out_degrees.items()}\n",
    "\n",
    "print(\"Average In-Degree for each node type:\")\n",
    "for node_type, avg_in in avg_in_degrees.items():\n",
    "    print(f\"{node_type}: {avg_in}\")\n",
    "\n",
    "print(\"\\nAverage Out-Degree for each node type:\")\n",
    "for node_type, avg_out in avg_out_degrees.items():\n",
    "    print(f\"{node_type}: {avg_out}\")"
   ]
  },
  {
   "cell_type": "code",
   "execution_count": 9,
   "metadata": {},
   "outputs": [],
   "source": [
    "# Filter out the disease nodes\n",
    "disease_nodes = [node for node, attrs in H.nodes(data=True) if attrs['type'] == 'Disease']\n",
    "\n",
    "# Compute in-degrees and out-degrees for each disease node\n",
    "disease_degrees = [(node, H.in_degree(node), H.out_degree(node)) for node in disease_nodes]\n",
    "\n",
    "#disease_degrees"
   ]
  },
  {
   "cell_type": "code",
   "execution_count": 7,
   "metadata": {},
   "outputs": [
    {
     "name": "stdout",
     "output_type": "stream",
     "text": [
      "Disease with the highest in-degree: Disease::DOID:10763, 73\n",
      "Disease with the highest out-degree: Disease::DOID:1612, 1115\n"
     ]
    }
   ],
   "source": [
    "# Initialize variables to hold the disease with the highest in-degree and out-degree\n",
    "max_in_degree_disease = None\n",
    "max_out_degree_disease = None\n",
    "max_in_degree = float('-inf')\n",
    "max_out_degree = float('-inf')\n",
    "\n",
    "# Iterate through the list to find the disease with the highest in-degree and out-degree\n",
    "for disease, in_degree, out_degree in disease_degrees:\n",
    "    if in_degree > max_in_degree:\n",
    "        max_in_degree = in_degree\n",
    "        max_in_degree_disease = disease\n",
    "    if out_degree > max_out_degree:\n",
    "        max_out_degree = out_degree\n",
    "        max_out_degree_disease = disease\n",
    "\n",
    "print(f\"Disease with the highest in-degree: {max_in_degree_disease}, {max_in_degree}\")\n",
    "print(f\"Disease with the highest out-degree: {max_out_degree_disease}, {max_out_degree}\")"
   ]
  },
  {
   "cell_type": "code",
   "execution_count": 25,
   "metadata": {},
   "outputs": [
    {
     "data": {
      "text/plain": [
       "{'type': 'Disease'}"
      ]
     },
     "execution_count": 25,
     "metadata": {},
     "output_type": "execute_result"
    }
   ],
   "source": [
    "H_nodes = H.nodes[disease]\n",
    "H_nodes"
   ]
  },
  {
   "cell_type": "code",
   "execution_count": 24,
   "metadata": {},
   "outputs": [
    {
     "name": "stdout",
     "output_type": "stream",
     "text": [
      "Top 5 diseases by in-degree (most incoming connections):\n",
      "Disease: Unknown, In-Degree: 14\n",
      "Disease: Unknown, In-Degree: 0\n",
      "Disease: Unknown, In-Degree: 1\n",
      "Disease: Unknown, In-Degree: 3\n",
      "Disease: Unknown, In-Degree: 5\n",
      "\n",
      "Top 5 diseases by out-degree (most outgoing connections):\n",
      "Disease: Unknown, Out-Degree: 699\n",
      "Disease: Unknown, Out-Degree: 1076\n",
      "Disease: Unknown, Out-Degree: 1115\n",
      "Disease: Unknown, Out-Degree: 277\n",
      "Disease: Unknown, Out-Degree: 595\n"
     ]
    }
   ],
   "source": [
    "# Filter out the disease nodes\n",
    "disease_nodes = [node for node, attrs in H.nodes(data=True) if attrs['type'] == 'Disease']\n",
    "\n",
    "# Compute in-degrees and out-degrees for each disease node\n",
    "disease_degrees = [(node, H.in_degree(node), H.out_degree(node)) for node in disease_nodes]\n",
    "\n",
    "# Sort the list by in-degree and out-degree to find the most connected diseases\n",
    "most_connected_by_in_degree = sorted(disease_degrees, key=lambda x: x[0], reverse=True)\n",
    "most_connected_by_out_degree = sorted(disease_degrees, key=lambda x: x[1], reverse=True)\n",
    "\n",
    "# Display the top 5 most connected diseases by in-degree, assuming the name is in position 1\n",
    "print(\"Top 5 diseases by in-degree (most incoming connections):\")\n",
    "for disease, in_degree, _ in most_connected_by_in_degree[:5]:\n",
    "    # Assuming the name is stored under index 1 in the node attributes\n",
    "    disease_name = H.nodes[disease][0] if 0 in H.nodes[disease] else \"Unknown\"\n",
    "    print(f\"Disease: {disease_name}, In-Degree: {in_degree}\")\n",
    "\n",
    "# Display the top 5 most connected diseases by out-degree, with the same assumption\n",
    "print(\"\\nTop 5 diseases by out-degree (most outgoing connections):\")\n",
    "for disease, _, out_degree in most_connected_by_out_degree[:5]:\n",
    "    disease_name = H.nodes[disease][0] if 0 in H.nodes[disease] else \"Unknown\"\n",
    "    print(f\"Disease: {disease_name}, Out-Degree: {out_degree}\")\n"
   ]
  },
  {
   "cell_type": "code",
   "execution_count": 34,
   "metadata": {},
   "outputs": [
    {
     "name": "stdout",
     "output_type": "stream",
     "text": [
      "Anatomy::UBERON:0000002 {'type': 'Anatomy'}\n",
      "Anatomy::UBERON:0000004 {'type': 'Anatomy'}\n",
      "Anatomy::UBERON:0000006 {'type': 'Anatomy'}\n",
      "Anatomy::UBERON:0000007 {'type': 'Anatomy'}\n",
      "Anatomy::UBERON:0000010 {'type': 'Anatomy'}\n"
     ]
    }
   ],
   "source": [
    "# Inspect the first few nodes to see how their attributes are stored\n",
    "for node, attrs in list(H.nodes(data=True))[:5]:\n",
    "    print(node, attrs)\n"
   ]
  },
  {
   "cell_type": "code",
   "execution_count": 10,
   "metadata": {},
   "outputs": [],
   "source": [
    "# H is our directed graph\n",
    "# and it has a 'type' attribute for each node specifying whether it's a Disease, Symptom, or something else\n",
    "\n",
    "# Step 1: Identify Disease and Symptom nodes\n",
    "disease_and_symptom_nodes = [node for node, attrs in H.nodes(data=True) if attrs.get('type') in ['Disease', 'Symptom']]\n",
    "\n",
    "# Step 2: Create the sub-graph\n",
    "disease_symptom_subgraph = H.subgraph(disease_and_symptom_nodes).copy()\n",
    "\n",
    "# Now 'disease_symptom_subgraph' is a directed sub-graph of 'H' \n",
    "# that includes only Diseases and Symptoms and the edges between them\n"
   ]
  },
  {
   "cell_type": "code",
   "execution_count": 11,
   "metadata": {},
   "outputs": [
    {
     "name": "stdout",
     "output_type": "stream",
     "text": [
      "Total connections: 3900\n",
      "Total disease and symptom nodes: 575\n",
      "Average number of connections between a disease and a symptom: 6.782608695652174\n"
     ]
    }
   ],
   "source": [
    "# 'disease_symptom_subgraph' is your MultiDiGraph containing only diseases and symptoms\n",
    "\n",
    "# Step 1: Count the total number of connections (edges)\n",
    "# In a MultiDiGraph, this correctly accounts for multiple edges between the same nodes\n",
    "total_connections = len(disease_symptom_subgraph.edges())\n",
    "\n",
    "# Step 2: Determine the number of diseases and symptoms\n",
    "diseases_count = sum(1 for _, data in disease_symptom_subgraph.nodes(data=True) if data.get('type') == 'Disease')\n",
    "symptoms_count = sum(1 for _, data in disease_symptom_subgraph.nodes(data=True) if data.get('type') == 'Symptom')\n",
    "\n",
    "# The total number of disease and symptom nodes\n",
    "total_disease_symptom_nodes = diseases_count + symptoms_count\n",
    "\n",
    "# Step 3: Compute the average number of connections\n",
    "# The calculation of the average connections per node remains the same\n",
    "average_connections = total_connections / total_disease_symptom_nodes\n",
    "\n",
    "print(f\"Total connections: {total_connections}\")\n",
    "print(f\"Total disease and symptom nodes: {total_disease_symptom_nodes}\")\n",
    "print(f\"Average number of connections between a disease and a symptom: {average_connections}\")"
   ]
  },
  {
   "cell_type": "markdown",
   "metadata": {},
   "source": [
    "Compute the similarity between “type 1 diabetes mellitus” and “type 2 diabetes mellitus”"
   ]
  },
  {
   "cell_type": "code",
   "execution_count": null,
   "metadata": {},
   "outputs": [],
   "source": [
    "# Step 1: Identify the node IDs for the two diseases\n",
    "# This step assumes you have some way to map disease names to node IDs. \n",
    "# For demonstration, let's assume these are the node IDs:\n",
    "node_id_type1 = \"type 1 diabetes mellitus\"\n",
    "node_id_type2 = \"type 2 diabetes mellitus\"\n",
    "\n",
    "# Step 2: Get Neighbors for both diseases\n",
    "# Adjust this step based on whether you're interested in successors, predecessors, or both\n",
    "neighbors_type1 = set(H.successors(node_id_type1)) | set(H.predecessors(node_id_type1))\n",
    "neighbors_type2 = set(H.successors(node_id_type2)) | set(H.predecessors(node_id_type2))\n",
    "\n",
    "# Step 3: Compute Jaccard Similarity\n",
    "intersection = len(neighbors_type1 & neighbors_type2)\n",
    "union = len(neighbors_type1 | neighbors_type2)\n",
    "jaccard_similarity = intersection / union if union else 0\n",
    "\n",
    "print(f\"Jaccard Similarity: {jaccard_similarity}\")\n"
   ]
  }
 ],
 "metadata": {
  "kernelspec": {
   "display_name": "Python 3",
   "language": "python",
   "name": "python3"
  },
  "language_info": {
   "codemirror_mode": {
    "name": "ipython",
    "version": 3
   },
   "file_extension": ".py",
   "mimetype": "text/x-python",
   "name": "python",
   "nbconvert_exporter": "python",
   "pygments_lexer": "ipython3",
   "version": "3.10.13"
  }
 },
 "nbformat": 4,
 "nbformat_minor": 2
}
